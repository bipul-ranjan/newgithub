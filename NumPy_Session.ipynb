{
  "cells": [
    {
      "cell_type": "markdown",
      "metadata": {
        "id": "view-in-github",
        "colab_type": "text"
      },
      "source": [
        "<a href=\"https://colab.research.google.com/github/bipul-ranjan/newgithub/blob/master/NumPy_Session.ipynb\" target=\"_parent\"><img src=\"https://colab.research.google.com/assets/colab-badge.svg\" alt=\"Open In Colab\"/></a>"
      ]
    },
    {
      "cell_type": "markdown",
      "id": "1478e0e8",
      "metadata": {
        "id": "1478e0e8"
      },
      "source": [
        "# Numpy"
      ]
    },
    {
      "cell_type": "markdown",
      "id": "f68e2530",
      "metadata": {
        "id": "f68e2530"
      },
      "source": [
        "NumPy, an acronym for the term ‘Numerical Python’, is a library in Python which is used extensively for efficient mathematical computing.\n",
        "\n",
        "This library allows users to store large amounts of data using less memory and perform extensive operations efficiently.\n",
        "\n",
        "It provides optimised and simpler functionalities to perform aforementioned operations using homogenous, one-dimensional and multidimensional arrays"
      ]
    },
    {
      "cell_type": "markdown",
      "id": "6342e47a",
      "metadata": {
        "id": "6342e47a"
      },
      "source": [
        "Now, before delving deep into the concept of NumPy arrays, it is important to note that Python lists can very well perform all the actions that NumPy arrays perform; it is simply the fact that NumPy arrays are faster and more convenient than lists when it comes to extensive computations, which make them extremely useful, especially when you are working with large amounts of data.\n",
        "\n",
        "Some reasons for such difference in speed are:\n",
        "\n",
        "NumPy is written in C, which is basically being executed behind the scenes\n",
        "\n",
        "\n",
        "NumPy arrays are more compact than lists, i.e. they take much lesser storage space than lists\n",
        "\n"
      ]
    },
    {
      "cell_type": "code",
      "execution_count": null,
      "id": "3b5d0ace",
      "metadata": {
        "id": "3b5d0ace"
      },
      "outputs": [],
      "source": [
        "#pip install numpy\n",
        "import numpy as np"
      ]
    },
    {
      "cell_type": "code",
      "execution_count": null,
      "id": "7bb15f11",
      "metadata": {
        "id": "7bb15f11",
        "outputId": "c2b27821-67d0-491b-89d4-0c54d288159c"
      },
      "outputs": [
        {
          "name": "stdout",
          "output_type": "stream",
          "text": [
            "0.2801337242126465\n",
            "0.010195493698120117\n",
            "The ratio of time taken is 27.0\n"
          ]
        }
      ],
      "source": [
        "import time\n",
        "\n",
        "## Comparing time taken for computation\n",
        "list_1 = [i for i in range(1000000)]\n",
        "list_2 = [j**2 for j in range(1000000)]\n",
        "\n",
        "t0 = time.time()\n",
        "product_list = list(map(lambda x, y: x*y, list_1, list_2))\n",
        "t1 = time.time()\n",
        "list_time = t1 - t0\n",
        "print (t1-t0)\n",
        "\n",
        "# numpy array\n",
        "array_1 = np.array(list_1)\n",
        "array_2 = np.array(list_2)\n",
        "\n",
        "t0 = time.time()\n",
        "product_numpy = array_1 * array_2\n",
        "t1 = time.time()\n",
        "numpy_time = t1 - t0\n",
        "print (t1-t0)\n",
        "\n",
        "print(\"The ratio of time taken is {}\".format(list_time//numpy_time))"
      ]
    },
    {
      "cell_type": "markdown",
      "id": "fc5ab9c1",
      "metadata": {
        "id": "fc5ab9c1"
      },
      "source": [
        "You might hear of a 0-D (zero-dimensional) array referred to as a “scalar”\n",
        "\n",
        "1-D (one-dimensional) array as a “vector”\n",
        "\n",
        "2-D (two-dimensional) array as a “matrix”\n",
        "\n",
        "N-D (N-dimensional, where “N” is typically an integer greater than 2) array as a “tensor”.\n",
        "\n",
        "For clarity, it is best to avoid the mathematical terms when referring to an array because the mathematical objects with these names behave differently than arrays (e.g. “matrix” multiplication is fundamentally different from “array” multiplication), and there are other objects in the scientific Python ecosystem that have these names (e.g. the fundamental data structure of PyTorch is the “tensor”)."
      ]
    },
    {
      "cell_type": "markdown",
      "id": "8bc900e7",
      "metadata": {
        "id": "8bc900e7"
      },
      "source": [
        "# Numpy vs List"
      ]
    },
    {
      "cell_type": "code",
      "execution_count": null,
      "id": "1be6d9ab",
      "metadata": {
        "id": "1be6d9ab"
      },
      "outputs": [],
      "source": [
        "heights =  [74,75,72,73,72]"
      ]
    },
    {
      "cell_type": "code",
      "execution_count": null,
      "id": "fea1274d",
      "metadata": {
        "id": "fea1274d",
        "outputId": "61ceb300-1aea-4d3a-da1e-c29abb49de97"
      },
      "outputs": [
        {
          "name": "stdout",
          "output_type": "stream",
          "text": [
            "[74 75 72 73 72]\n"
          ]
        }
      ],
      "source": [
        "np_heights = np.array(heights)\n",
        "print(np_heights)"
      ]
    },
    {
      "cell_type": "code",
      "execution_count": null,
      "id": "1fb9c54d",
      "metadata": {
        "id": "1fb9c54d",
        "outputId": "4ea6ebe1-5f9d-4cc6-e0cb-95acd004833f"
      },
      "outputs": [
        {
          "data": {
            "text/plain": [
              "array([187.96, 190.5 , 182.88, 185.42, 182.88])"
            ]
          },
          "execution_count": 6,
          "metadata": {},
          "output_type": "execute_result"
        }
      ],
      "source": [
        "np_heights * 2.54"
      ]
    },
    {
      "cell_type": "markdown",
      "id": "be0444c6",
      "metadata": {
        "id": "be0444c6"
      },
      "source": [
        "# Array Creation"
      ]
    },
    {
      "cell_type": "code",
      "execution_count": null,
      "id": "d12ad214",
      "metadata": {
        "id": "d12ad214",
        "outputId": "24295586-c795-473c-80ca-fef4d1fc41d9"
      },
      "outputs": [
        {
          "data": {
            "text/plain": [
              "array([2, 3, 4, 5])"
            ]
          },
          "execution_count": 7,
          "metadata": {},
          "output_type": "execute_result"
        }
      ],
      "source": [
        "a = np.array([2,3,4,5])\n",
        "a"
      ]
    },
    {
      "cell_type": "code",
      "execution_count": null,
      "id": "037539a3",
      "metadata": {
        "id": "037539a3",
        "outputId": "d6769974-c679-478c-e9d6-54378a8a323f"
      },
      "outputs": [
        {
          "data": {
            "text/plain": [
              "1"
            ]
          },
          "execution_count": 8,
          "metadata": {},
          "output_type": "execute_result"
        }
      ],
      "source": [
        "a.ndim"
      ]
    },
    {
      "cell_type": "code",
      "execution_count": null,
      "id": "7f01d513",
      "metadata": {
        "id": "7f01d513",
        "outputId": "e43583c6-49c4-4639-805c-4cd46bc53d0a"
      },
      "outputs": [
        {
          "data": {
            "text/plain": [
              "dtype('int32')"
            ]
          },
          "execution_count": 9,
          "metadata": {},
          "output_type": "execute_result"
        }
      ],
      "source": [
        "a.dtype"
      ]
    },
    {
      "cell_type": "code",
      "execution_count": null,
      "id": "0ba6e708",
      "metadata": {
        "id": "0ba6e708",
        "outputId": "817d01da-60d9-4566-e11a-2784a208816a"
      },
      "outputs": [
        {
          "data": {
            "text/plain": [
              "dtype('float64')"
            ]
          },
          "execution_count": 11,
          "metadata": {},
          "output_type": "execute_result"
        }
      ],
      "source": [
        "b = np.array([1.2,3.5,5.3])\n",
        "b.dtype"
      ]
    },
    {
      "cell_type": "code",
      "execution_count": null,
      "id": "4aa55320",
      "metadata": {
        "id": "4aa55320"
      },
      "outputs": [],
      "source": [
        "b = np.array([[1,3,4,6],\n",
        "            [2,4,5,8],\n",
        "            [6,8,9,10]])"
      ]
    },
    {
      "cell_type": "code",
      "execution_count": null,
      "id": "56de4b0f",
      "metadata": {
        "id": "56de4b0f",
        "outputId": "7714da55-d693-491b-92c6-3bf0144190a1"
      },
      "outputs": [
        {
          "data": {
            "text/plain": [
              "2"
            ]
          },
          "execution_count": 14,
          "metadata": {},
          "output_type": "execute_result"
        }
      ],
      "source": [
        "b.ndim"
      ]
    },
    {
      "cell_type": "code",
      "execution_count": null,
      "id": "5fe8f6d1",
      "metadata": {
        "id": "5fe8f6d1",
        "outputId": "bdd4e0d6-1d58-4870-e64c-3eab3620639d"
      },
      "outputs": [
        {
          "data": {
            "text/plain": [
              "(3, 4)"
            ]
          },
          "execution_count": 15,
          "metadata": {},
          "output_type": "execute_result"
        }
      ],
      "source": [
        "b.shape"
      ]
    },
    {
      "cell_type": "code",
      "execution_count": null,
      "id": "f904a3ae",
      "metadata": {
        "id": "f904a3ae",
        "outputId": "53ec8d5f-1a34-4bbb-ab27-95776db7980b"
      },
      "outputs": [
        {
          "data": {
            "text/plain": [
              "array([[1., 2.],\n",
              "       [3., 4.]])"
            ]
          },
          "execution_count": 17,
          "metadata": {},
          "output_type": "execute_result"
        }
      ],
      "source": [
        "c = np.array([[1,2],[3,4]],dtype = float)\n",
        "c"
      ]
    },
    {
      "cell_type": "code",
      "execution_count": null,
      "id": "67ae7679",
      "metadata": {
        "id": "67ae7679",
        "outputId": "207dc645-cf95-4fec-d579-903052b3327c"
      },
      "outputs": [
        {
          "data": {
            "text/plain": [
              "(2, 2)"
            ]
          },
          "execution_count": 18,
          "metadata": {},
          "output_type": "execute_result"
        }
      ],
      "source": [
        "c.shape"
      ]
    },
    {
      "cell_type": "code",
      "execution_count": null,
      "id": "665ff728",
      "metadata": {
        "id": "665ff728",
        "outputId": "2b57e273-cce4-48fc-836b-f27cc6762675"
      },
      "outputs": [
        {
          "data": {
            "text/plain": [
              "array([[[1., 1., 1., 1.],\n",
              "        [1., 1., 1., 1.],\n",
              "        [1., 1., 1., 1.]],\n",
              "\n",
              "       [[1., 1., 1., 1.],\n",
              "        [1., 1., 1., 1.],\n",
              "        [1., 1., 1., 1.]],\n",
              "\n",
              "       [[1., 1., 1., 1.],\n",
              "        [1., 1., 1., 1.],\n",
              "        [1., 1., 1., 1.]],\n",
              "\n",
              "       [[1., 1., 1., 1.],\n",
              "        [1., 1., 1., 1.],\n",
              "        [1., 1., 1., 1.]]])"
            ]
          },
          "execution_count": 19,
          "metadata": {},
          "output_type": "execute_result"
        }
      ],
      "source": [
        "a = np.ones((4,3,4))\n",
        "a"
      ]
    },
    {
      "cell_type": "code",
      "execution_count": null,
      "id": "38da6d5f",
      "metadata": {
        "id": "38da6d5f",
        "outputId": "808de48a-a50d-4652-beee-9a28561fdf69"
      },
      "outputs": [
        {
          "data": {
            "text/plain": [
              "3"
            ]
          },
          "execution_count": 20,
          "metadata": {},
          "output_type": "execute_result"
        }
      ],
      "source": [
        "a.ndim"
      ]
    },
    {
      "cell_type": "code",
      "execution_count": null,
      "id": "4ee63c7c",
      "metadata": {
        "id": "4ee63c7c",
        "outputId": "fef77897-5566-4a1d-e1a3-cc222d5ba384"
      },
      "outputs": [
        {
          "data": {
            "text/plain": [
              "(4, 3, 4)"
            ]
          },
          "execution_count": 21,
          "metadata": {},
          "output_type": "execute_result"
        }
      ],
      "source": [
        "a.shape"
      ]
    },
    {
      "cell_type": "code",
      "execution_count": null,
      "id": "433c3492",
      "metadata": {
        "id": "433c3492",
        "outputId": "0a0bf520-cccf-41fe-dfdd-3a48361c724f"
      },
      "outputs": [
        {
          "data": {
            "text/plain": [
              "array([[ 0,  1,  2],\n",
              "       [ 3,  4,  5],\n",
              "       [ 6,  7,  8],\n",
              "       [ 9, 10, 11]])"
            ]
          },
          "execution_count": 22,
          "metadata": {},
          "output_type": "execute_result"
        }
      ],
      "source": [
        "b =  np.arange(12).reshape(4,3)\n",
        "b"
      ]
    },
    {
      "cell_type": "code",
      "execution_count": null,
      "id": "5c5779ec",
      "metadata": {
        "id": "5c5779ec",
        "outputId": "cc6a50df-522a-4ab4-9ad8-e86aab4f8731"
      },
      "outputs": [
        {
          "data": {
            "text/plain": [
              "array([[1, 2],\n",
              "       [4, 5],\n",
              "       [7, 8]])"
            ]
          },
          "execution_count": 28,
          "metadata": {},
          "output_type": "execute_result"
        }
      ],
      "source": [
        "b[0:3,1:3]"
      ]
    },
    {
      "cell_type": "code",
      "execution_count": null,
      "id": "9bf97d46",
      "metadata": {
        "id": "9bf97d46",
        "outputId": "9d3aef42-51b1-4d04-b4d3-99e530b076b2"
      },
      "outputs": [
        {
          "data": {
            "text/plain": [
              "array([[[ 0,  1,  2,  3],\n",
              "        [ 4,  5,  6,  7],\n",
              "        [ 8,  9, 10, 11],\n",
              "        [12, 13, 14, 15]],\n",
              "\n",
              "       [[16, 17, 18, 19],\n",
              "        [20, 21, 22, 23],\n",
              "        [24, 25, 26, 27],\n",
              "        [28, 29, 30, 31]],\n",
              "\n",
              "       [[32, 33, 34, 35],\n",
              "        [36, 37, 38, 39],\n",
              "        [40, 41, 42, 43],\n",
              "        [44, 45, 46, 47]]])"
            ]
          },
          "execution_count": 25,
          "metadata": {},
          "output_type": "execute_result"
        }
      ],
      "source": [
        "c =  np.arange(48).reshape(3,4,4)\n",
        "c"
      ]
    },
    {
      "cell_type": "code",
      "execution_count": null,
      "id": "232ca2b3",
      "metadata": {
        "id": "232ca2b3",
        "outputId": "46bd904e-b1ae-4349-a72a-aca01b08a8fd"
      },
      "outputs": [
        {
          "data": {
            "text/plain": [
              "array([[36, 37, 38],\n",
              "       [40, 41, 42]])"
            ]
          },
          "execution_count": 29,
          "metadata": {},
          "output_type": "execute_result"
        }
      ],
      "source": [
        "c[1:2,1:3,0:3]"
      ]
    },
    {
      "cell_type": "markdown",
      "id": "fa234cf8",
      "metadata": {
        "id": "fa234cf8"
      },
      "source": [
        "# Sorting"
      ]
    },
    {
      "cell_type": "code",
      "execution_count": null,
      "id": "8a18692a",
      "metadata": {
        "id": "8a18692a",
        "outputId": "7b33dd50-dde7-44d0-e016-5e982ef96c3d"
      },
      "outputs": [
        {
          "data": {
            "text/plain": [
              "array([8, 7, 6, 5, 3, 2, 2, 1])"
            ]
          },
          "execution_count": 31,
          "metadata": {},
          "output_type": "execute_result"
        }
      ],
      "source": [
        "arr = np.array([2,1,5,3,6,7,2,8])\n",
        "sorted_arr = np.sort(arr)\n",
        "sorted_arr[::-1]"
      ]
    },
    {
      "cell_type": "markdown",
      "id": "c5ecfc33",
      "metadata": {
        "id": "c5ecfc33"
      },
      "source": [
        "# Aggregate Functions"
      ]
    },
    {
      "cell_type": "code",
      "execution_count": null,
      "id": "9752ac72",
      "metadata": {
        "id": "9752ac72",
        "outputId": "d02130bd-c483-4b30-853e-2952efd4531b"
      },
      "outputs": [
        {
          "data": {
            "text/plain": [
              "array([[ 0,  1,  2],\n",
              "       [ 3,  4,  5],\n",
              "       [ 6,  7,  8],\n",
              "       [ 9, 10, 11]])"
            ]
          },
          "execution_count": 32,
          "metadata": {},
          "output_type": "execute_result"
        }
      ],
      "source": [
        "b = np.arange(12).reshape(4,3)\n",
        "b"
      ]
    },
    {
      "cell_type": "code",
      "execution_count": null,
      "id": "bcd2881a",
      "metadata": {
        "id": "bcd2881a",
        "outputId": "dc6e5b2f-4948-4281-ae1f-313dd1f5a539"
      },
      "outputs": [
        {
          "data": {
            "text/plain": [
              "66"
            ]
          },
          "execution_count": 33,
          "metadata": {},
          "output_type": "execute_result"
        }
      ],
      "source": [
        "b.sum()"
      ]
    },
    {
      "cell_type": "code",
      "execution_count": null,
      "id": "85573009",
      "metadata": {
        "id": "85573009",
        "outputId": "b74703ab-6e62-4fc9-da83-4f7facf6e40f"
      },
      "outputs": [
        {
          "data": {
            "text/plain": [
              "0"
            ]
          },
          "execution_count": 34,
          "metadata": {},
          "output_type": "execute_result"
        }
      ],
      "source": [
        "b.min()"
      ]
    },
    {
      "cell_type": "code",
      "execution_count": null,
      "id": "0c279d4d",
      "metadata": {
        "id": "0c279d4d",
        "outputId": "29ff1d49-8a38-441b-a614-740789479b04"
      },
      "outputs": [
        {
          "data": {
            "text/plain": [
              "11"
            ]
          },
          "execution_count": 35,
          "metadata": {},
          "output_type": "execute_result"
        }
      ],
      "source": [
        "b.max()"
      ]
    },
    {
      "cell_type": "code",
      "execution_count": null,
      "id": "9e4932ec",
      "metadata": {
        "id": "9e4932ec",
        "outputId": "bfe0cae9-26b6-4783-858e-ea7d442dd17e"
      },
      "outputs": [
        {
          "data": {
            "text/plain": [
              "array([18, 22, 26])"
            ]
          },
          "execution_count": 36,
          "metadata": {},
          "output_type": "execute_result"
        }
      ],
      "source": [
        "b.sum(axis=0)# sum of each columns"
      ]
    },
    {
      "cell_type": "code",
      "execution_count": null,
      "id": "68d1b52e",
      "metadata": {
        "id": "68d1b52e",
        "outputId": "8daefd0f-92c8-48c0-96d5-9d9b74287523"
      },
      "outputs": [
        {
          "data": {
            "text/plain": [
              "array([ 3, 12, 21, 30])"
            ]
          },
          "execution_count": 37,
          "metadata": {},
          "output_type": "execute_result"
        }
      ],
      "source": [
        "b.sum(axis=1)# sum of each rows"
      ]
    },
    {
      "cell_type": "code",
      "execution_count": null,
      "id": "25b48454",
      "metadata": {
        "id": "25b48454"
      },
      "outputs": [],
      "source": [
        "# stacking\n",
        "a1 = np.array([[1,1],\n",
        "             [2,2]])\n",
        "\n",
        "a2 = np.array([[3,3],\n",
        "             [4,4]])"
      ]
    },
    {
      "cell_type": "code",
      "execution_count": null,
      "id": "de22c8fe",
      "metadata": {
        "id": "de22c8fe",
        "outputId": "2a6ee374-f860-4c34-f4ea-af3326f0c97c"
      },
      "outputs": [
        {
          "data": {
            "text/plain": [
              "array([[1, 1],\n",
              "       [2, 2],\n",
              "       [3, 3],\n",
              "       [4, 4]])"
            ]
          },
          "execution_count": 39,
          "metadata": {},
          "output_type": "execute_result"
        }
      ],
      "source": [
        "#vstack\n",
        "np.vstack((a1,a2))"
      ]
    },
    {
      "cell_type": "code",
      "execution_count": null,
      "id": "ed8a8e6d",
      "metadata": {
        "id": "ed8a8e6d",
        "outputId": "24175ac9-4d79-412b-850d-de3f62980306"
      },
      "outputs": [
        {
          "data": {
            "text/plain": [
              "array([[1, 1, 3, 3],\n",
              "       [2, 2, 4, 4]])"
            ]
          },
          "execution_count": 40,
          "metadata": {},
          "output_type": "execute_result"
        }
      ],
      "source": [
        "#hstack\n",
        "np.hstack((a1,a2))"
      ]
    },
    {
      "cell_type": "code",
      "execution_count": null,
      "id": "6ed701e2",
      "metadata": {
        "id": "6ed701e2",
        "outputId": "2e543c6f-b3de-4bac-a2c5-aa2a9cf54be0"
      },
      "outputs": [
        {
          "data": {
            "text/plain": [
              "array([1, 2, 3, 5, 6, 7, 8])"
            ]
          },
          "execution_count": 41,
          "metadata": {},
          "output_type": "execute_result"
        }
      ],
      "source": [
        "np.unique(arr)"
      ]
    },
    {
      "cell_type": "code",
      "execution_count": null,
      "id": "7a27c20a",
      "metadata": {
        "id": "7a27c20a",
        "outputId": "2fa7bc76-9c02-4beb-e8e3-5874ee225062"
      },
      "outputs": [
        {
          "data": {
            "text/plain": [
              "array([[ 0,  1,  2],\n",
              "       [ 3,  4,  5],\n",
              "       [ 6,  7,  8],\n",
              "       [ 9, 10, 11]])"
            ]
          },
          "execution_count": 42,
          "metadata": {},
          "output_type": "execute_result"
        }
      ],
      "source": [
        "b"
      ]
    },
    {
      "cell_type": "code",
      "execution_count": null,
      "id": "0151107d",
      "metadata": {
        "id": "0151107d",
        "outputId": "c1623aa0-15fa-4f74-914b-6d64bcda5e94"
      },
      "outputs": [
        {
          "data": {
            "text/plain": [
              "array([[ 0,  3,  6,  9],\n",
              "       [ 1,  4,  7, 10],\n",
              "       [ 2,  5,  8, 11]])"
            ]
          },
          "execution_count": 43,
          "metadata": {},
          "output_type": "execute_result"
        }
      ],
      "source": [
        "b.T"
      ]
    },
    {
      "cell_type": "code",
      "execution_count": null,
      "id": "ace30835",
      "metadata": {
        "id": "ace30835",
        "outputId": "90518654-244c-483f-e29b-5ffaed78166b"
      },
      "outputs": [
        {
          "data": {
            "text/plain": [
              "array([[4, 4],\n",
              "       [6, 6]])"
            ]
          },
          "execution_count": 44,
          "metadata": {},
          "output_type": "execute_result"
        }
      ],
      "source": [
        "np.add(a1,a2)"
      ]
    },
    {
      "cell_type": "code",
      "execution_count": null,
      "id": "b765d5d5",
      "metadata": {
        "id": "b765d5d5"
      },
      "outputs": [],
      "source": [
        "np.subtract(a1,a2)\n",
        "np.multiply(a1,a2)\n",
        "np.divide(a1,a2)"
      ]
    }
  ],
  "metadata": {
    "kernelspec": {
      "display_name": "Python 3 (ipykernel)",
      "language": "python",
      "name": "python3"
    },
    "language_info": {
      "codemirror_mode": {
        "name": "ipython",
        "version": 3
      },
      "file_extension": ".py",
      "mimetype": "text/x-python",
      "name": "python",
      "nbconvert_exporter": "python",
      "pygments_lexer": "ipython3",
      "version": "3.10.9"
    },
    "colab": {
      "provenance": [],
      "include_colab_link": true
    }
  },
  "nbformat": 4,
  "nbformat_minor": 5
}